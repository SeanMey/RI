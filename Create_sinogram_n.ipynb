{
 "cells": [
  {
   "cell_type": "code",
   "execution_count": 3,
   "metadata": {
    "collapsed": true
   },
   "outputs": [],
   "source": [
    "import matplotlib.pyplot as plt\n",
    "\n",
    "from skimage.io import imread\n",
    "from skimage import data_dir\n",
    "from skimage.transform import radon, rescale,resize\n",
    "from skimage.transform import iradon\n",
    "import os\n",
    "import numpy as np\n",
    "import scipy.misc\n",
    "\n",
    "def distortion(imagein,reng,width):\n",
    "        # disturtion\n",
    "    maxvalue= np.min(imagein)\n",
    "    for nremg in range(2,reng):\n",
    "        imagein[:,range(0, width, nremg)]=maxvalue\n",
    "    return imagein\n",
    "\n",
    "def radtra(file,downR):\n",
    "    image = imread( file, as_grey=True)\n",
    "    width, height = np.shape(image)\n",
    "    imageSqsize=max(width,height)\n",
    "    image=resize(image,(imageSqsize,imageSqsize),mode='constant')\n",
    "    image = rescale(image, scale=0.4, mode='reflect')\n",
    "\n",
    "    fig, (ax1, ax2) = plt.subplots(1, 2, figsize=(12, 6))\n",
    "\n",
    "    ax1.set_title(\"Original\")\n",
    "    ax1.imshow(image, cmap=plt.cm.Greys_r)\n",
    "\n",
    "    theta = np.linspace(0., 180., max(image.shape), endpoint=False)\n",
    "    sinogram = radon(image, theta=theta, circle=False)\n",
    "    \n",
    "    \n",
    "    sinogram = distortion(sinogram,downR,width)\n",
    "    \n",
    "    ax2.set_title(\"Radon transform\\n(Sinogram)\")\n",
    "    ax2.set_xlabel(\"Projection angle (deg)\")\n",
    "    ax2.set_ylabel(\"Projection position (pixels)\")\n",
    "    ax2.imshow(sinogram, cmap=plt.cm.Greys_r,extent=(0, 180, 0, sinogram.shape[0]), aspect='auto')\n",
    "\n",
    "    fig.tight_layout()\n",
    "    plt.show()\n",
    "    \n",
    "    \n",
    "    reconstruction_fbp = iradon(sinogram, theta=theta, circle=False)\n",
    "    \n",
    "    #scipy.misc.imsave(file.replace(\"images\", \"images_f_sinogram\"), reconstruction_fbp)\n",
    "\n",
    "    \n",
    "    error = reconstruction_fbp - image\n",
    "    error= 2\n",
    "    print('FBP rms reconstruction error: %.3g' % np.sqrt(np.mean(error**2)))\n",
    "\n",
    "    imkwargs = dict(vmin=-0.2, vmax=0.2)\n",
    "    fig, (ax1, ax2) = plt.subplots(1, 2, figsize=(12, 6),sharex=True, sharey=True,subplot_kw={'adjustable': 'box-forced'})\n",
    "    ax1.set_title(\"Reconstruction\\nFiltered back projection\")\n",
    "    ax1.imshow(reconstruction_fbp, cmap=plt.cm.Greys_r)\n",
    "    ax2.set_title(\"Reconstruction error\\nFiltered back projection\")\n",
    "    ax2.imshow(image, cmap=plt.cm.Greys_r, **imkwargs)\n",
    "    plt.show()\n",
    "    "
   ]
  },
  {
   "cell_type": "code",
   "execution_count": 4,
   "metadata": {
    "scrolled": true
   },
   "outputs": [
    {
     "ename": "IndexError",
     "evalue": "index 38 is out of bounds for axis 1 with size 38",
     "output_type": "error",
     "traceback": [
      "\u001b[1;31m---------------------------------------------------------------------------\u001b[0m",
      "\u001b[1;31mIndexError\u001b[0m                                Traceback (most recent call last)",
      "\u001b[1;32m<ipython-input-4-09591b649ea3>\u001b[0m in \u001b[0;36m<module>\u001b[1;34m()\u001b[0m\n\u001b[0;32m      9\u001b[0m         \u001b[0mfileForSinogram\u001b[0m \u001b[1;33m=\u001b[0m \u001b[0mfolder\u001b[0m\u001b[1;33m+\u001b[0m\u001b[1;34m\"/\"\u001b[0m\u001b[1;33m+\u001b[0m\u001b[0mfilename\u001b[0m\u001b[1;33m\u001b[0m\u001b[0m\n\u001b[0;32m     10\u001b[0m         \u001b[1;31m#print(fileForSinogram)\u001b[0m\u001b[1;33m\u001b[0m\u001b[1;33m\u001b[0m\u001b[0m\n\u001b[1;32m---> 11\u001b[1;33m         \u001b[0mradtra\u001b[0m\u001b[1;33m(\u001b[0m\u001b[0mfileForSinogram\u001b[0m\u001b[1;33m,\u001b[0m\u001b[0mdownR\u001b[0m\u001b[1;33m)\u001b[0m\u001b[1;33m\u001b[0m\u001b[0m\n\u001b[0m\u001b[0;32m     12\u001b[0m         \u001b[1;32mcontinue\u001b[0m\u001b[1;33m\u001b[0m\u001b[0m\n\u001b[0;32m     13\u001b[0m     \u001b[1;32melse\u001b[0m\u001b[1;33m:\u001b[0m\u001b[1;33m\u001b[0m\u001b[0m\n",
      "\u001b[1;32m<ipython-input-3-43b81dfad9f8>\u001b[0m in \u001b[0;36mradtra\u001b[1;34m(file, downR)\u001b[0m\n\u001b[0;32m     32\u001b[0m \u001b[1;33m\u001b[0m\u001b[0m\n\u001b[0;32m     33\u001b[0m \u001b[1;33m\u001b[0m\u001b[0m\n\u001b[1;32m---> 34\u001b[1;33m     \u001b[0msinogram\u001b[0m \u001b[1;33m=\u001b[0m \u001b[0mdistortion\u001b[0m\u001b[1;33m(\u001b[0m\u001b[0msinogram\u001b[0m\u001b[1;33m,\u001b[0m\u001b[0mdownR\u001b[0m\u001b[1;33m,\u001b[0m\u001b[0mwidth\u001b[0m\u001b[1;33m)\u001b[0m\u001b[1;33m\u001b[0m\u001b[0m\n\u001b[0m\u001b[0;32m     35\u001b[0m \u001b[1;33m\u001b[0m\u001b[0m\n\u001b[0;32m     36\u001b[0m     \u001b[0max2\u001b[0m\u001b[1;33m.\u001b[0m\u001b[0mset_title\u001b[0m\u001b[1;33m(\u001b[0m\u001b[1;34m\"Radon transform\\n(Sinogram)\"\u001b[0m\u001b[1;33m)\u001b[0m\u001b[1;33m\u001b[0m\u001b[0m\n",
      "\u001b[1;32m<ipython-input-3-43b81dfad9f8>\u001b[0m in \u001b[0;36mdistortion\u001b[1;34m(imagein, reng, width)\u001b[0m\n\u001b[0;32m     13\u001b[0m     \u001b[0mmaxvalue\u001b[0m\u001b[1;33m=\u001b[0m \u001b[0mnp\u001b[0m\u001b[1;33m.\u001b[0m\u001b[0mmin\u001b[0m\u001b[1;33m(\u001b[0m\u001b[0mimagein\u001b[0m\u001b[1;33m)\u001b[0m\u001b[1;33m\u001b[0m\u001b[0m\n\u001b[0;32m     14\u001b[0m     \u001b[1;32mfor\u001b[0m \u001b[0mnremg\u001b[0m \u001b[1;32min\u001b[0m \u001b[0mrange\u001b[0m\u001b[1;33m(\u001b[0m\u001b[1;36m2\u001b[0m\u001b[1;33m,\u001b[0m\u001b[0mreng\u001b[0m\u001b[1;33m)\u001b[0m\u001b[1;33m:\u001b[0m\u001b[1;33m\u001b[0m\u001b[0m\n\u001b[1;32m---> 15\u001b[1;33m         \u001b[0mimagein\u001b[0m\u001b[1;33m[\u001b[0m\u001b[1;33m:\u001b[0m\u001b[1;33m,\u001b[0m\u001b[0mrange\u001b[0m\u001b[1;33m(\u001b[0m\u001b[1;36m0\u001b[0m\u001b[1;33m,\u001b[0m \u001b[0mwidth\u001b[0m\u001b[1;33m,\u001b[0m \u001b[0mnremg\u001b[0m\u001b[1;33m)\u001b[0m\u001b[1;33m]\u001b[0m\u001b[1;33m=\u001b[0m\u001b[0mmaxvalue\u001b[0m\u001b[1;33m\u001b[0m\u001b[0m\n\u001b[0m\u001b[0;32m     16\u001b[0m     \u001b[1;32mreturn\u001b[0m \u001b[0mimagein\u001b[0m\u001b[1;33m\u001b[0m\u001b[0m\n\u001b[0;32m     17\u001b[0m \u001b[1;33m\u001b[0m\u001b[0m\n",
      "\u001b[1;31mIndexError\u001b[0m: index 38 is out of bounds for axis 1 with size 38"
     ]
    }
   ],
   "source": [
    "folder='images';\n",
    "downR=8\n",
    "#downR=8\n",
    "\n",
    "filesList = os.listdir(folder)\n",
    "for file in filesList[0:5]:\n",
    "    filename = os.fsdecode(file)\n",
    "    if filename.endswith(\".jpg\") or filename.endswith(\".png\"): \n",
    "        fileForSinogram = folder+\"/\"+filename\n",
    "        #print(fileForSinogram)\n",
    "        radtra(fileForSinogram,downR)\n",
    "        continue\n",
    "    else:\n",
    "        continue"
   ]
  },
  {
   "cell_type": "code",
   "execution_count": null,
   "metadata": {
    "collapsed": true
   },
   "outputs": [],
   "source": []
  },
  {
   "cell_type": "code",
   "execution_count": null,
   "metadata": {
    "collapsed": true
   },
   "outputs": [],
   "source": []
  }
 ],
 "metadata": {
  "anaconda-cloud": {},
  "kernelspec": {
   "display_name": "Python 3",
   "language": "python",
   "name": "python3"
  },
  "language_info": {
   "codemirror_mode": {
    "name": "ipython",
    "version": 3
   },
   "file_extension": ".py",
   "mimetype": "text/x-python",
   "name": "python",
   "nbconvert_exporter": "python",
   "pygments_lexer": "ipython3",
   "version": "3.6.1"
  }
 },
 "nbformat": 4,
 "nbformat_minor": 2
}
